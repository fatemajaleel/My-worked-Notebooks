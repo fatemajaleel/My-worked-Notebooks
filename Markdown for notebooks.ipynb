{
 "cells": [
  {
   "cell_type": "markdown",
   "id": "112036ca-ae1e-4eda-81a7-6f3e51e76c76",
   "metadata": {},
   "source": [
    "# My Jupyter Notebook on IBM Watson Studio"
   ]
  },
  {
   "cell_type": "markdown",
   "id": "b911e052-6ef6-48d5-8352-962db42b1540",
   "metadata": {},
   "source": [
    "**Fatema Jaleel**\n",
    "\n",
    "Automation Engineer"
   ]
  },
  {
   "cell_type": "markdown",
   "id": "cc721696-4bc2-4231-8005-9a17500bed65",
   "metadata": {},
   "source": [
    "*I am keenly interested Data Science because for me, Data is something that helps in the growth. And growth is something I am obsessed with, be it for whom I am working or for myself.*"
   ]
  },
  {
   "cell_type": "markdown",
   "id": "960868da-7d37-437c-9a2a-29e098881a8c",
   "metadata": {},
   "source": [
    "### The cell below multiplies two numbers using the multiplication operator \"*\"."
   ]
  },
  {
   "cell_type": "code",
   "execution_count": 3,
   "id": "1ddb764d-1bbc-4c73-af62-7f1fb5169163",
   "metadata": {},
   "outputs": [
    {
     "data": {
      "text/plain": [
       "6"
      ]
     },
     "execution_count": 3,
     "metadata": {},
     "output_type": "execute_result"
    }
   ],
   "source": [
    "2*3"
   ]
  },
  {
   "attachments": {
    "b839a968-e045-4712-8bdb-d68fd0d3823b.jpg": {
     "image/jpeg": "[encoded data removed]"
    }
   },
   "cell_type": "markdown",
   "id": "eb508102-1141-4659-814f-f803b333b9e5",
   "metadata": {},
   "source": [
    "- B\n",
    "- U\n",
    "- L\n",
    "- L\n",
    "- E\n",
    "- T\n",
    "- S\n",
    "***\n",
    "\n",
    "1. N\n",
    "2. U\n",
    "3. M\n",
    "4. B\n",
    "5. E\n",
    "6. R\n",
    "7. S\n",
    "\n",
    "***\n",
    "\n",
    "__[This is a Hyperlink](https://media.istockphoto.com/photos/data-science-concept-picture-id1390716712?b=1&k=20&m=1390716712&s=170667a&w=0&h=Eu3UiJcbH714M7opAt6Fo4eKn1FIFUFP5pyFhFN69T8=)__\n",
    "\n",
    "***\n",
    "\n",
    "~~This is a strikethough text~~\n",
    "\n",
    "***\n",
    "\n",
    ">\"This is a Blocked quote\"\n",
    "\n",
    "***\n",
    "\n",
    "Below is shown different color boxes used for different purposes in Markdown cells:\n",
    "\n",
    "<div class=\"alert alert-block alert-info\">\n",
    "<b>Tips/Notes:</b> Blue boxes are used for info alerts(Tips/Notes).\n",
    "</div>\n",
    "\n",
    "<div class=\"alert alert-block alert-warning\">\n",
    "<b>Examples:</b> Yellow boxes are used for examples that are not \n",
    "inside code cells, or use for mathematical formulas if needed.\n",
    "</div>\n",
    "\n",
    "<div class=\"alert alert-block alert-success\">\n",
    "<b>Up to you:</b> Use green boxes sparingly, and only for some specific \n",
    "purpose that the other boxes can't cover. For example, if you have a lot \n",
    "of related content to link to, maybe you decide to use green boxes for \n",
    "related links from each section of a notebook.\n",
    "</div>\n",
    "\n",
    "<div class=\"alert alert-block alert-danger\">\n",
    "<b>Just don't:</b> In general, avoid the red boxes. These should only be\n",
    "used for actions that might cause data loss or another major issue.\n",
    "</div>\n",
    "\n",
    "***\n",
    "\n",
    "This is an image:\n",
    "![ds wallpaper.jpg](attachment:b839a968-e045-4712-8bdb-d68fd0d3823b.jpg)\n",
    "\n",
    "***\n",
    "\n",
    "This is a Table:\n",
    "\n",
    "| Name | Age |\n",
    "| ----------- | ----------- |\n",
    "| Fatema | 28 |\n",
    "| Taha | 16 |\n",
    "|Murtuza| 30 |\n",
    "\n",
    "---"
   ]
  },
  {
   "cell_type": "code",
   "execution_count": null,
   "id": "4b067004-a58f-4223-bad7-19371d332052",
   "metadata": {},
   "outputs": [],
   "source": []
  }
 ],
 "metadata": {
  "kernelspec": {
   "display_name": "Python",
   "language": "python",
   "name": "conda-env-python-py"
  },
  "language_info": {
   "codemirror_mode": {
    "name": "ipython",
    "version": 3
   },
   "file_extension": ".py",
   "mimetype": "text/x-python",
   "name": "python",
   "nbconvert_exporter": "python",
   "pygments_lexer": "ipython3",
   "version": "3.7.12"
  }
 },
 "nbformat": 4,
 "nbformat_minor": 5
}
